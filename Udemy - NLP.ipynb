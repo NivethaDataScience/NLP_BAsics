{
 "cells": [
  {
   "cell_type": "code",
   "execution_count": null,
   "id": "2023d82c",
   "metadata": {},
   "outputs": [],
   "source": [
    "import nltk\n",
    "nltk.download()"
   ]
  },
  {
   "cell_type": "code",
   "execution_count": 17,
   "id": "1f804929",
   "metadata": {},
   "outputs": [
    {
     "name": "stdout",
     "output_type": "stream",
     "text": [
      "['Hi there.', 'Im Nivetha']\n"
     ]
    }
   ],
   "source": [
    "#Sentence tokenize \n",
    "from nltk import word_tokenize,sent_tokenize\n",
    "text = \"Hi there. Im Nivetha\"\n",
    "tokenized_sent=sent_tokenize(text)\n",
    "print(tokenized_sent)"
   ]
  },
  {
   "cell_type": "code",
   "execution_count": 18,
   "id": "f10019be",
   "metadata": {},
   "outputs": [
    {
     "name": "stdout",
     "output_type": "stream",
     "text": [
      "Hi there.\n",
      "im Nivetha\n"
     ]
    }
   ],
   "source": [
    "from nltk import word_tokenize,sent_tokenize\n",
    "text = \"Hi there. im Nivetha\"\n",
    "tokenized_sent=sent_tokenize(text)\n",
    "for sentence in tokenized_sent:\n",
    "    print(sentence)"
   ]
  },
  {
   "cell_type": "code",
   "execution_count": 15,
   "id": "47417b79",
   "metadata": {},
   "outputs": [
    {
     "name": "stdout",
     "output_type": "stream",
     "text": [
      "Hi there , HOw are you?\n",
      "I love my mother-in-law\n"
     ]
    }
   ],
   "source": [
    "from nltk import word_tokenize,sent_tokenize\n",
    "text = \"Hi there , HOw are you? I love my mother-in-law\"\n",
    "tokenized_sent=sent_tokenize(text)\n",
    "for sentence in tokenized_sent:\n",
    "    print(sentence)"
   ]
  },
  {
   "cell_type": "code",
   "execution_count": 19,
   "id": "351cd49a",
   "metadata": {},
   "outputs": [
    {
     "name": "stdout",
     "output_type": "stream",
     "text": [
      "Hi\n",
      "there\n",
      ",\n",
      "HOw\n",
      "are\n",
      "you\n",
      "?\n",
      "I\n",
      "love\n",
      "my\n",
      "mother-in-law\n"
     ]
    }
   ],
   "source": [
    "#Word Tokenize\n",
    "from nltk import word_tokenize,sent_tokenize\n",
    "text = \"Hi there , HOw are you? I love my mother-in-law\"\n",
    "tokenized_word=word_tokenize(text)\n",
    "for word in tokenized_word:\n",
    "    print(word)"
   ]
  },
  {
   "cell_type": "markdown",
   "id": "6290df2b",
   "metadata": {},
   "source": [
    "# Stemming and lemmatization using nltk"
   ]
  },
  {
   "cell_type": "markdown",
   "id": "6c73065c",
   "metadata": {},
   "source": [
    "I saw him walking in the rain\n",
    "I saw him taking a walk in the rain\n",
    "\n",
    "Walk and walking are two different words\n",
    "Stemming Algorithm-PorterStemmer"
   ]
  },
  {
   "cell_type": "code",
   "execution_count": 1,
   "id": "3749130d",
   "metadata": {},
   "outputs": [
    {
     "name": "stdout",
     "output_type": "stream",
     "text": [
      "illeg\n"
     ]
    }
   ],
   "source": [
    "from nltk.stem import PorterStemmer\n",
    "from nltk.tokenize import word_tokenize\n",
    "ps=PorterStemmer()\n",
    "print(ps.stem(\"illegal\"))"
   ]
  },
  {
   "cell_type": "code",
   "execution_count": 3,
   "id": "3286c6b2",
   "metadata": {},
   "outputs": [
    {
     "name": "stdout",
     "output_type": "stream",
     "text": [
      "legal\n",
      "illeg\n",
      "legan\n",
      "legal\n"
     ]
    }
   ],
   "source": [
    "sample_words=[\"legal\",\"illegal\", \"leganize\",\"legally\"]\n",
    "for words in sample_words:\n",
    "    print(ps.stem(words))"
   ]
  },
  {
   "cell_type": "markdown",
   "id": "4500a213",
   "metadata": {},
   "source": [
    "Above we get the strange words for this we move with the lemmatization \n",
    "\n",
    "Lemmatization->Gives the  Actual Words"
   ]
  },
  {
   "cell_type": "code",
   "execution_count": 6,
   "id": "2a95900f",
   "metadata": {},
   "outputs": [
    {
     "name": "stderr",
     "output_type": "stream",
     "text": [
      "[nltk_data] Downloading package wordnet to\n",
      "[nltk_data]     C:\\Users\\nivet\\AppData\\Roaming\\nltk_data...\n"
     ]
    },
    {
     "data": {
      "text/plain": [
       "True"
      ]
     },
     "execution_count": 6,
     "metadata": {},
     "output_type": "execute_result"
    }
   ],
   "source": [
    "import nltk\n",
    "nltk.download('wordnet')\n",
    "  "
   ]
  },
  {
   "cell_type": "code",
   "execution_count": 8,
   "id": "3c7b5696",
   "metadata": {},
   "outputs": [
    {
     "name": "stderr",
     "output_type": "stream",
     "text": [
      "[nltk_data] Downloading package omw-1.4 to\n",
      "[nltk_data]     C:\\Users\\nivet\\AppData\\Roaming\\nltk_data...\n"
     ]
    },
    {
     "data": {
      "text/plain": [
       "True"
      ]
     },
     "execution_count": 8,
     "metadata": {},
     "output_type": "execute_result"
    }
   ],
   "source": [
    "import nltk\n",
    "nltk.download('omw-1.4')"
   ]
  },
  {
   "cell_type": "code",
   "execution_count": 10,
   "id": "97a328e6",
   "metadata": {},
   "outputs": [
    {
     "name": "stdout",
     "output_type": "stream",
     "text": [
      "puppy\n",
      "puppy\n"
     ]
    }
   ],
   "source": [
    "from nltk import WordNetLemmatizer\n",
    "lemmatizer=WordNetLemmatizer()\n",
    "print(lemmatizer.lemmatize(\"puppy\"))\n",
    "print(lemmatizer.lemmatize(\"puppies\"))"
   ]
  },
  {
   "cell_type": "code",
   "execution_count": 13,
   "id": "a80f52e0",
   "metadata": {},
   "outputs": [
    {
     "name": "stdout",
     "output_type": "stream",
     "text": [
      "juice\n",
      "leaf\n",
      "piece\n",
      "wolf\n"
     ]
    }
   ],
   "source": [
    "sample_words=[\"juices\",\"leaves\", \"pieces\",\"wolves\"]\n",
    "for words in sample_words:\n",
    "    print(lemmatizer.lemmatize(words))"
   ]
  },
  {
   "cell_type": "code",
   "execution_count": 15,
   "id": "362c0f24",
   "metadata": {},
   "outputs": [
    {
     "name": "stdout",
     "output_type": "stream",
     "text": [
      "good\n",
      "best\n"
     ]
    }
   ],
   "source": [
    "print(lemmatizer.lemmatize(\"better\",pos=\"a\"))# pos->Part Of Speech\n",
    "print(lemmatizer.lemmatize(\"best\",pos=\"a\"))"
   ]
  },
  {
   "cell_type": "markdown",
   "id": "7d7163cb",
   "metadata": {},
   "source": [
    "# Parts of speech tagging"
   ]
  },
  {
   "cell_type": "code",
   "execution_count": 18,
   "id": "9a16664f",
   "metadata": {},
   "outputs": [
    {
     "name": "stderr",
     "output_type": "stream",
     "text": [
      "[nltk_data] Downloading package averaged_perceptron_tagger to\n",
      "[nltk_data]     C:\\Users\\nivet\\AppData\\Roaming\\nltk_data...\n",
      "[nltk_data]   Unzipping taggers\\averaged_perceptron_tagger.zip.\n"
     ]
    },
    {
     "data": {
      "text/plain": [
       "True"
      ]
     },
     "execution_count": 18,
     "metadata": {},
     "output_type": "execute_result"
    }
   ],
   "source": [
    "import nltk\n",
    "nltk.download('averaged_perceptron_tagger')"
   ]
  },
  {
   "cell_type": "code",
   "execution_count": 2,
   "id": "0531760f",
   "metadata": {},
   "outputs": [
    {
     "name": "stdout",
     "output_type": "stream",
     "text": [
      "[('I', 'PRP'), ('was', 'VBD'), ('walking', 'VBG'), ('by', 'IN'), ('the', 'DT'), ('road', 'NN'), ('when', 'WRB'), ('I', 'PRP'), ('saw', 'VBD'), ('the', 'DT'), ('cutest', 'JJS'), ('puppy', 'NN'), ('on', 'IN'), ('the', 'DT'), ('other', 'JJ'), ('side', 'NN')]\n"
     ]
    }
   ],
   "source": [
    "from nltk import pos_tag\n",
    "from nltk import sent_tokenize,word_tokenize\n",
    "\n",
    "sample_text=\"I was walking by the road when I saw the cutest puppy on the other side\"\n",
    "\n",
    "tokenized_words=word_tokenize(sample_text)\n",
    "tag=pos_tag(tokenized_words)\n",
    "print(tag)\n",
    "#refer google(NLTK part of speech) to know about the Capital letters visible in the output"
   ]
  },
  {
   "cell_type": "code",
   "execution_count": 10,
   "id": "ef046ea1",
   "metadata": {},
   "outputs": [],
   "source": [
    "with open(\"gift-of-magi.txt\",\"r\")as corpora:\n",
    "    sample_text=corpora.read()"
   ]
  },
  {
   "cell_type": "code",
   "execution_count": 11,
   "id": "dd816bb6",
   "metadata": {},
   "outputs": [
    {
     "data": {
      "text/plain": [
       "'ï»¿The Gift of the Magi\\nby O. Henry\\n\\n\\nOne dollar and eighty-seven cents. That was all. And sixty cents of it was in pennies. Pennies saved one and two at a time by bulldozing the grocer and the vegetable man and the butcher until one\\'s cheeks burned with the silent imputation of parsimony that such close dealing implied. Three times Della counted it. One dollar and eighty-seven cents. And the next day would be Christmas.\\n\\n\\nThere was clearly nothing left to do but flop down on the shabby little couch and howl. So Della did it. Which instigates the moral reflection that life is made up of sobs, sniffles, and smiles, with sniffles predominating.\\n\\n\\nWhile the mistress of the home is gradually subsiding from the first stage to the second, take a look at the home. A furnished flat at $8 per week. It did not exactly beggar description, but it certainly had that word on the look-out for the mendicancy squad.\\n\\n\\nIn the vestibule below was a letter-box into which no letter would go, and an electric button from which no mortal finger could coax a ring. Also appertaining thereunto was a card bearing the name \"Mr. James Dillingham Young.\"\\n\\n\\nThe \"Dillingham\" had been flung to the breeze during a former period of prosperity when its possessor was being paid $30 per week. Now, when the income was shrunk to $20, the letters of \"Dillingham\" looked blurred, as though they were thinking seriously of contracting to a modest and unassuming D. But whenever Mr. James Dillingham Young came home and reached his flat above he was called \"Jim\" and greatly hugged by Mrs. James Dillingham Young, already introduced to you as Della. Which is all very good.\\n\\n\\nDella finished her cry and attended to her cheeks with the powder rag. She stood by the window and looked out dully at a grey cat walking a grey fence in a grey backyard. To-morrow would be Christmas Day, and she had only $1.87 with which to buy Jim a present. She had been saving every penny she could for months, with this result. Twenty dollars a week doesn\\'t go far. Expenses had been greater than she had calculated. They always are. Only $1.87 to buy a present for Jim. Her Jim. Many a happy hour she had spent planning for something nice for him. Something fine and rare and sterling--something just a little bit near to being worthy of the honour of being owned by Jim.\\n\\n\\nThere was a pier-glass between the windows of the room. Perhaps you have seen a pier-glass in an $8 flat. A very thin and very agile person may, by observing his reflection in a rapid sequence of longitudinal strips, obtain a fairly accurate conception of his looks. Della, being slender, had mastered the art.\\n\\n\\nSuddenly she whirled from the window and stood before the glass. Her eyes were shining brilliantly, but her face had lost its colour within twenty seconds. Rapidly she pulled down her hair and let it fall to its full length.\\n\\n\\nNow, there were two possessions of the James Dillingham Youngs in which they both took a mighty pride. One was Jim\\'s gold watch that had been his father\\'s and his grandfather\\'s. The other was Della\\'s hair. Had the Queen of Sheba lived in the flat across the airshaft, Della would have let her hair hang out of the window some day to dry just to depreciate Her Majesty\\'s jewels and gifts. Had King Solomon been the janitor, with all his treasures piled up in the basement, Jim would have pulled out his watch every time he passed, just to see him pluck at his beard from envy.\\n\\n\\nSo now Della\\'s beautiful hair fell about her, rippling and shining like a cascade of brown waters. It reached below her knee and made itself almost a garment for her. And then she did it up again nervously and quickly. Once she faltered for a minute and stood still while a tear or two splashed on the worn red carpet.\\n\\n\\nOn went her old brown jacket; on went her old brown hat. With a whirl of skirts and with the brilliant sparkle still in her eyes, she cluttered out of the door and down the stairs to the street.\\n\\n\\nWhere she stopped the sign read: \"Mme Sofronie. Hair Goods of All Kinds.\" One Eight up Della ran, and collected herself, panting. Madame, large, too white, chilly, hardly looked the \"Sofronie.\"\\n\\n\\n\"Will you buy my hair?\" asked Della.\\n\\n\\n\"I buy hair,\" said Madame. \"Take yer hat off and let\\'s have a sight at the looks of it.\"\\n\\n\\nDown rippled the brown cascade.\\n\\n\\n\"Twenty dollars,\" said Madame, lifting the mass with a practised hand.\\n\\n\\n\"Give it to me quick\" said Della.\\n\\n\\nOh, and the next two hours tripped by on rosy wings. Forget the hashed metaphor. She was ransacking the stores for Jim\\'s present.\\n\\n\\nShe found it at last. It surely had been made for Jim and no one else. There was no other like it in any of the stores, and she had turned all of them inside out. It was a platinum fob chain simple and chaste in design, properly proclaiming its value by substance alone and not by meretricious ornamentation--as all good things should do. It was even worthy of The Watch. As soon as she saw it she knew that it must be Jim\\'s. It was like him. Quietness and value--the description applied to both. Twenty-one dollars they took from her for it, and she hurried home with the 78 cents. With that chain on his watch Jim might be properly anxious about the time in any company. Grand as the watch was, he sometimes looked at it on the sly on account of the old leather strap that he used in place of a chain.\\n\\n\\nWhen Della reached home her intoxication gave way a little to prudence and reason. She got out her curling irons and lighted the gas and went to work repairing the ravages made by generosity added to love. Which is always a tremendous task dear friends--a mammoth task.\\n\\n\\nWithin forty minutes her head was covered with tiny, close-lying curls that made her look wonderfully like a truant schoolboy. She looked at her reflection in the mirror long, carefully, and critically.\\n\\n\\n\"If Jim doesn\\'t kill me,\" she said to herself, \"before he takes a second look at me, he\\'ll say I look like a Coney Island chorus girl. But what could I do--oh! what could I do with a dollar and eighty-seven cents?\"\\n\\n\\nAt 7 o\\'clock the coffee was made and the frying-pan was on the back of the stove hot and ready to cook the chops.\\n\\n\\nJim was never late. Della doubled the fob chain in her hand and sat on the corner of the table near the door that he always entered. Then she heard his step on the stair away down on the first flight, and she turned white for just a moment. She had a habit of saying little silent prayers about the simplest everyday things, and now she whispered: \"Please, God, make him think I am still pretty.\"\\n\\n\\nThe door opened and Jim stepped in and closed it. He looked thin and very serious. Poor fellow, he was only twenty-two--and to be burdened with a family! He needed a new overcoat and he was without gloves.\\n\\n\\nJim stepped inside the door, as immovable as a setter at the scent of quail. His eyes were fixed upon Della, and there was an expression in them that she could not read, and it terrified her. It was not anger, nor surprise, nor disapproval, nor horror, nor any of the sentiments that she had been prepared for. He simply stared at her fixedly with that peculiar expression on his face.\\n\\n\\nDella wriggled off the table and went for him.\\n\\n\\n\"Jim, darling,\" she cried, \"don\\'t look at me that way. I had my hair cut off and sold it because I couldn\\'t have lived through Christmas without giving you a present. It\\'ll grow out again--you won\\'t mind, will you? I just had to do it. My hair grows awfully fast. Say \\'Merry Christmas!\\' Jim, and let\\'s be happy. You don\\'t know what a nice-what a beautiful, nice gift I\\'ve got for you.\"\\n\\n\\n\"You\\'ve cut off your hair?\" asked Jim, laboriously, as if he had not arrived at that patent fact yet, even after the hardest mental labour.\\n\\n\\n\"Cut it off and sold it,\" said Della. \"Don\\'t you like me just as well, anyhow? I\\'m me without my hair, ain\\'t I?\"\\n\\n\\nJim looked about the room curiously.\\n\\n\\n\"You say your hair is gone?\" he said, with an air almost of idiocy.\\n\\n\\n\"You needn\\'t look for it,\" said Della. \"It\\'s sold, I tell you--sold and gone, too. It\\'s Christmas Eve, boy. Be good to me, for it went for you. Maybe the hairs of my head were numbered,\" she went on with a sudden serious sweetness, \"but nobody could ever count my love for you. Shall I put the chops on, Jim?\"\\n\\n\\nOut of his trance Jim seemed quickly to wake. He enfolded his Della. For ten seconds let us regard with discreet scrutiny some inconsequential object in the other direction. Eight dollars a week or a million a year--what is the difference? A mathematician or a wit would give you the wrong answer. The magi brought valuable gifts, but that was not among them. This dark assertion will be illuminated later on.\\n\\n\\nJim drew a package from his overcoat pocket and threw it upon the table.\\n\\n\\n\"Don\\'t make any mistake, Dell,\" he said, \"about me. I don\\'t think there\\'s anything in the way of a haircut or a shave or a shampoo that could make me like my girl any less. But if you\\'ll unwrap that package you may see why you had me going a while at first.\"\\n\\n\\nWhite fingers and nimble tore at the string and paper. And then an ecstatic scream of joy; and then, alas! a quick feminine change to hysterical tears and wails, necessitating the immediate employment of all the comforting powers of the lord of the flat.\\n\\n\\nFor there lay The Combs--the set of combs, side and back, that Della had worshipped for long in a Broadway window. Beautiful combs, pure tortoise-shell, with jewelled rims--just the shade to wear in the beautiful vanished hair. They were expensive combs, she knew, and her heart had simply craved and yearned over them without the least hope of possession. And now, they were hers, but the tresses that should have adorned the coveted adornments were gone.\\n\\n\\nBut she hugged them to her bosom, and at length she was able to look up with dim eyes and a smile and say: \"My hair grows so fast, Jim!\"\\n\\n\\nAnd then Della leaped up like a little singed cat and cried, \"Oh, oh!\"\\n\\n\\nJim had not yet seen his beautiful present. She held it out to him eagerly upon her open palm. The dull precious metal seemed to flash with a reflection of her bright and ardent spirit.\\n\\n\\n\"Isn\\'t it a dandy, Jim? I hunted all over town to find it. You\\'ll have to look at the time a hundred times a day now. Give me your watch. I want to see how it looks on it.\"\\n\\n\\nInstead of obeying, Jim tumbled down on the couch and put his hands under the back of his head and smiled.\\n\\n\\n\"Dell,\" said he, \"let\\'s put our Christmas presents away and keep \\'em a while. They\\'re too nice to use just at present. I sold the watch to get the money to buy Your combs. And now suppose you put the chops on.\"\\n\\n\\nThe magi, as you know, were wise men--wonderfully wise men-who brought gifts to the Babe in the manger. They invented the art of giving Christmas presents. Being wise, their gifts were no doubt wise ones, possibly bearing the privilege of exchange in case of duplication. And here I have lamely related to you the uneventful chronicle of two foolish children in a flat who most unwisely sacrificed for each other the greatest treasures of their house. But in a last word to the wise of these days let it be said that of all who give gifts these two were the wisest. Of all who give and receive gifts, such as they are wisest. Everywhere they are wisest. They are the magi.'"
      ]
     },
     "execution_count": 11,
     "metadata": {},
     "output_type": "execute_result"
    }
   ],
   "source": [
    "sample_text"
   ]
  },
  {
   "cell_type": "code",
   "execution_count": 13,
   "id": "7944deed",
   "metadata": {},
   "outputs": [
    {
     "name": "stdout",
     "output_type": "stream",
     "text": [
      "[('ï', 'JJ'), ('»', 'NNP'), ('¿The', 'NNP'), ('Gift', 'NNP'), ('of', 'IN'), ('the', 'DT'), ('Magi', 'NNP'), ('by', 'IN'), ('O.', 'NNP'), ('Henry', 'NNP'), ('One', 'NNP'), ('dollar', 'NN'), ('and', 'CC'), ('eighty-seven', 'JJ'), ('cents', 'NNS'), ('.', '.')]\n",
      "[('That', 'DT'), ('was', 'VBD'), ('all', 'DT'), ('.', '.')]\n",
      "[('And', 'CC'), ('sixty', 'JJ'), ('cents', 'NNS'), ('of', 'IN'), ('it', 'PRP'), ('was', 'VBD'), ('in', 'IN'), ('pennies', 'NNS'), ('.', '.')]\n",
      "[('Pennies', 'NNS'), ('saved', 'VBD'), ('one', 'CD'), ('and', 'CC'), ('two', 'CD'), ('at', 'IN'), ('a', 'DT'), ('time', 'NN'), ('by', 'IN'), ('bulldozing', 'VBG'), ('the', 'DT'), ('grocer', 'NN'), ('and', 'CC'), ('the', 'DT'), ('vegetable', 'JJ'), ('man', 'NN'), ('and', 'CC'), ('the', 'DT'), ('butcher', 'NN'), ('until', 'IN'), ('one', 'CD'), (\"'s\", 'POS'), ('cheeks', 'NN'), ('burned', 'VBD'), ('with', 'IN'), ('the', 'DT'), ('silent', 'JJ'), ('imputation', 'NN'), ('of', 'IN'), ('parsimony', 'NN'), ('that', 'IN'), ('such', 'JJ'), ('close', 'JJ'), ('dealing', 'VBG'), ('implied', 'VBN'), ('.', '.')]\n",
      "[('Three', 'CD'), ('times', 'NNS'), ('Della', 'NNP'), ('counted', 'VBD'), ('it', 'PRP'), ('.', '.')]\n",
      "[('One', 'CD'), ('dollar', 'NN'), ('and', 'CC'), ('eighty-seven', 'JJ'), ('cents', 'NNS'), ('.', '.')]\n",
      "[('And', 'CC'), ('the', 'DT'), ('next', 'JJ'), ('day', 'NN'), ('would', 'MD'), ('be', 'VB'), ('Christmas', 'NNP'), ('.', '.')]\n",
      "[('There', 'EX'), ('was', 'VBD'), ('clearly', 'RB'), ('nothing', 'NN'), ('left', 'VBD'), ('to', 'TO'), ('do', 'VB'), ('but', 'CC'), ('flop', 'VB'), ('down', 'RP'), ('on', 'IN'), ('the', 'DT'), ('shabby', 'NN'), ('little', 'JJ'), ('couch', 'JJ'), ('and', 'CC'), ('howl', 'NN'), ('.', '.')]\n",
      "[('So', 'RB'), ('Della', 'NNP'), ('did', 'VBD'), ('it', 'PRP'), ('.', '.')]\n",
      "[('Which', 'WDT'), ('instigates', 'VBZ'), ('the', 'DT'), ('moral', 'JJ'), ('reflection', 'NN'), ('that', 'IN'), ('life', 'NN'), ('is', 'VBZ'), ('made', 'VBN'), ('up', 'IN'), ('of', 'IN'), ('sobs', 'NN'), (',', ','), ('sniffles', 'NNS'), (',', ','), ('and', 'CC'), ('smiles', 'NNS'), (',', ','), ('with', 'IN'), ('sniffles', 'NNS'), ('predominating', 'VBG'), ('.', '.')]\n",
      "[('While', 'IN'), ('the', 'DT'), ('mistress', 'NN'), ('of', 'IN'), ('the', 'DT'), ('home', 'NN'), ('is', 'VBZ'), ('gradually', 'RB'), ('subsiding', 'VBG'), ('from', 'IN'), ('the', 'DT'), ('first', 'JJ'), ('stage', 'NN'), ('to', 'TO'), ('the', 'DT'), ('second', 'JJ'), (',', ','), ('take', 'VB'), ('a', 'DT'), ('look', 'NN'), ('at', 'IN'), ('the', 'DT'), ('home', 'NN'), ('.', '.')]\n",
      "[('A', 'DT'), ('furnished', 'JJ'), ('flat', 'NN'), ('at', 'IN'), ('$', '$'), ('8', 'CD'), ('per', 'IN'), ('week', 'NN'), ('.', '.')]\n",
      "[('It', 'PRP'), ('did', 'VBD'), ('not', 'RB'), ('exactly', 'RB'), ('beggar', 'JJ'), ('description', 'NN'), (',', ','), ('but', 'CC'), ('it', 'PRP'), ('certainly', 'RB'), ('had', 'VBD'), ('that', 'IN'), ('word', 'NN'), ('on', 'IN'), ('the', 'DT'), ('look-out', 'NN'), ('for', 'IN'), ('the', 'DT'), ('mendicancy', 'NN'), ('squad', 'NN'), ('.', '.')]\n",
      "[('In', 'IN'), ('the', 'DT'), ('vestibule', 'NN'), ('below', 'IN'), ('was', 'VBD'), ('a', 'DT'), ('letter-box', 'NN'), ('into', 'IN'), ('which', 'WDT'), ('no', 'DT'), ('letter', 'NN'), ('would', 'MD'), ('go', 'VB'), (',', ','), ('and', 'CC'), ('an', 'DT'), ('electric', 'JJ'), ('button', 'NN'), ('from', 'IN'), ('which', 'WDT'), ('no', 'DT'), ('mortal', 'NN'), ('finger', 'NN'), ('could', 'MD'), ('coax', 'VB'), ('a', 'DT'), ('ring', 'NN'), ('.', '.')]\n",
      "[('Also', 'RB'), ('appertaining', 'VBG'), ('thereunto', 'NN'), ('was', 'VBD'), ('a', 'DT'), ('card', 'NN'), ('bearing', 'VBG'), ('the', 'DT'), ('name', 'NN'), ('``', '``'), ('Mr.', 'NNP'), ('James', 'NNP'), ('Dillingham', 'NNP'), ('Young', 'NNP'), ('.', '.'), (\"''\", \"''\")]\n",
      "[('The', 'DT'), ('``', '``'), ('Dillingham', 'NNP'), (\"''\", \"''\"), ('had', 'VBD'), ('been', 'VBN'), ('flung', 'VBN'), ('to', 'TO'), ('the', 'DT'), ('breeze', 'NN'), ('during', 'IN'), ('a', 'DT'), ('former', 'JJ'), ('period', 'NN'), ('of', 'IN'), ('prosperity', 'NN'), ('when', 'WRB'), ('its', 'PRP$'), ('possessor', 'NN'), ('was', 'VBD'), ('being', 'VBG'), ('paid', 'VBN'), ('$', '$'), ('30', 'CD'), ('per', 'IN'), ('week', 'NN'), ('.', '.')]\n",
      "[('Now', 'RB'), (',', ','), ('when', 'WRB'), ('the', 'DT'), ('income', 'NN'), ('was', 'VBD'), ('shrunk', 'VBN'), ('to', 'TO'), ('$', '$'), ('20', 'CD'), (',', ','), ('the', 'DT'), ('letters', 'NNS'), ('of', 'IN'), ('``', '``'), ('Dillingham', 'NNP'), (\"''\", \"''\"), ('looked', 'VBD'), ('blurred', 'VBN'), (',', ','), ('as', 'IN'), ('though', 'IN'), ('they', 'PRP'), ('were', 'VBD'), ('thinking', 'VBG'), ('seriously', 'RB'), ('of', 'IN'), ('contracting', 'VBG'), ('to', 'TO'), ('a', 'DT'), ('modest', 'JJ'), ('and', 'CC'), ('unassuming', 'JJ'), ('D.', 'NNP'), ('But', 'CC'), ('whenever', 'WRB'), ('Mr.', 'NNP'), ('James', 'NNP'), ('Dillingham', 'NNP'), ('Young', 'NNP'), ('came', 'VBD'), ('home', 'NN'), ('and', 'CC'), ('reached', 'VBD'), ('his', 'PRP$'), ('flat', 'JJ'), ('above', 'IN'), ('he', 'PRP'), ('was', 'VBD'), ('called', 'VBN'), ('``', '``'), ('Jim', 'NNP'), (\"''\", \"''\"), ('and', 'CC'), ('greatly', 'RB'), ('hugged', 'VBN'), ('by', 'IN'), ('Mrs.', 'NNP'), ('James', 'NNP'), ('Dillingham', 'NNP'), ('Young', 'NNP'), (',', ','), ('already', 'RB'), ('introduced', 'VBN'), ('to', 'TO'), ('you', 'PRP'), ('as', 'IN'), ('Della', 'NNP'), ('.', '.')]\n",
      "[('Which', 'WDT'), ('is', 'VBZ'), ('all', 'DT'), ('very', 'RB'), ('good', 'JJ'), ('.', '.')]\n",
      "[('Della', 'NN'), ('finished', 'VBD'), ('her', 'PRP$'), ('cry', 'NN'), ('and', 'CC'), ('attended', 'VBD'), ('to', 'TO'), ('her', 'PRP$'), ('cheeks', 'NN'), ('with', 'IN'), ('the', 'DT'), ('powder', 'NN'), ('rag', 'NN'), ('.', '.')]\n",
      "[('She', 'PRP'), ('stood', 'VBD'), ('by', 'IN'), ('the', 'DT'), ('window', 'NN'), ('and', 'CC'), ('looked', 'VBD'), ('out', 'RP'), ('dully', 'RB'), ('at', 'IN'), ('a', 'DT'), ('grey', 'JJ'), ('cat', 'NN'), ('walking', 'VBG'), ('a', 'DT'), ('grey', 'JJ'), ('fence', 'NN'), ('in', 'IN'), ('a', 'DT'), ('grey', 'JJ'), ('backyard', 'NN'), ('.', '.')]\n",
      "[('To-morrow', 'NNP'), ('would', 'MD'), ('be', 'VB'), ('Christmas', 'NNP'), ('Day', 'NNP'), (',', ','), ('and', 'CC'), ('she', 'PRP'), ('had', 'VBD'), ('only', 'RB'), ('$', '$'), ('1.87', 'CD'), ('with', 'IN'), ('which', 'WDT'), ('to', 'TO'), ('buy', 'VB'), ('Jim', 'NNP'), ('a', 'DT'), ('present', 'JJ'), ('.', '.')]\n",
      "[('She', 'PRP'), ('had', 'VBD'), ('been', 'VBN'), ('saving', 'VBG'), ('every', 'DT'), ('penny', 'NN'), ('she', 'PRP'), ('could', 'MD'), ('for', 'IN'), ('months', 'NNS'), (',', ','), ('with', 'IN'), ('this', 'DT'), ('result', 'NN'), ('.', '.')]\n",
      "[('Twenty', 'CD'), ('dollars', 'NNS'), ('a', 'DT'), ('week', 'NN'), ('does', 'VBZ'), (\"n't\", 'RB'), ('go', 'VB'), ('far', 'RB'), ('.', '.')]\n",
      "[('Expenses', 'NNS'), ('had', 'VBD'), ('been', 'VBN'), ('greater', 'JJR'), ('than', 'IN'), ('she', 'PRP'), ('had', 'VBD'), ('calculated', 'VBN'), ('.', '.')]\n",
      "[('They', 'PRP'), ('always', 'RB'), ('are', 'VBP'), ('.', '.')]\n",
      "[('Only', 'RB'), ('$', '$'), ('1.87', 'CD'), ('to', 'TO'), ('buy', 'VB'), ('a', 'DT'), ('present', 'JJ'), ('for', 'IN'), ('Jim', 'NNP'), ('.', '.')]\n",
      "[('Her', 'PRP$'), ('Jim', 'NNP'), ('.', '.')]\n",
      "[('Many', 'JJ'), ('a', 'DT'), ('happy', 'JJ'), ('hour', 'NN'), ('she', 'PRP'), ('had', 'VBD'), ('spent', 'VBN'), ('planning', 'VBG'), ('for', 'IN'), ('something', 'NN'), ('nice', 'JJ'), ('for', 'IN'), ('him', 'PRP'), ('.', '.')]\n",
      "[('Something', 'VBG'), ('fine', 'JJ'), ('and', 'CC'), ('rare', 'JJ'), ('and', 'CC'), ('sterling', 'NN'), ('--', ':'), ('something', 'NN'), ('just', 'RB'), ('a', 'DT'), ('little', 'JJ'), ('bit', 'NN'), ('near', 'IN'), ('to', 'TO'), ('being', 'VBG'), ('worthy', 'JJ'), ('of', 'IN'), ('the', 'DT'), ('honour', 'NN'), ('of', 'IN'), ('being', 'VBG'), ('owned', 'VBN'), ('by', 'IN'), ('Jim', 'NNP'), ('.', '.')]\n",
      "[('There', 'EX'), ('was', 'VBD'), ('a', 'DT'), ('pier-glass', 'NN'), ('between', 'IN'), ('the', 'DT'), ('windows', 'NNS'), ('of', 'IN'), ('the', 'DT'), ('room', 'NN'), ('.', '.')]\n",
      "[('Perhaps', 'RB'), ('you', 'PRP'), ('have', 'VBP'), ('seen', 'VBN'), ('a', 'DT'), ('pier-glass', 'NN'), ('in', 'IN'), ('an', 'DT'), ('$', '$'), ('8', 'CD'), ('flat', 'JJ'), ('.', '.')]\n",
      "[('A', 'DT'), ('very', 'RB'), ('thin', 'JJ'), ('and', 'CC'), ('very', 'RB'), ('agile', 'JJ'), ('person', 'NN'), ('may', 'MD'), (',', ','), ('by', 'IN'), ('observing', 'VBG'), ('his', 'PRP$'), ('reflection', 'NN'), ('in', 'IN'), ('a', 'DT'), ('rapid', 'JJ'), ('sequence', 'NN'), ('of', 'IN'), ('longitudinal', 'JJ'), ('strips', 'NNS'), (',', ','), ('obtain', 'VB'), ('a', 'DT'), ('fairly', 'RB'), ('accurate', 'JJ'), ('conception', 'NN'), ('of', 'IN'), ('his', 'PRP$'), ('looks', 'NNS'), ('.', '.')]\n",
      "[('Della', 'NN'), (',', ','), ('being', 'VBG'), ('slender', 'NN'), (',', ','), ('had', 'VBD'), ('mastered', 'VBN'), ('the', 'DT'), ('art', 'NN'), ('.', '.')]\n",
      "[('Suddenly', 'RB'), ('she', 'PRP'), ('whirled', 'VBD'), ('from', 'IN'), ('the', 'DT'), ('window', 'NN'), ('and', 'CC'), ('stood', 'VBD'), ('before', 'IN'), ('the', 'DT'), ('glass', 'NN'), ('.', '.')]\n",
      "[('Her', 'PRP$'), ('eyes', 'NNS'), ('were', 'VBD'), ('shining', 'VBG'), ('brilliantly', 'RB'), (',', ','), ('but', 'CC'), ('her', 'PRP$'), ('face', 'NN'), ('had', 'VBD'), ('lost', 'VBN'), ('its', 'PRP$'), ('colour', 'NN'), ('within', 'IN'), ('twenty', 'JJ'), ('seconds', 'NNS'), ('.', '.')]\n",
      "[('Rapidly', 'RB'), ('she', 'PRP'), ('pulled', 'VBD'), ('down', 'RP'), ('her', 'PRP$'), ('hair', 'NN'), ('and', 'CC'), ('let', 'VB'), ('it', 'PRP'), ('fall', 'VB'), ('to', 'TO'), ('its', 'PRP$'), ('full', 'JJ'), ('length', 'NN'), ('.', '.')]\n",
      "[('Now', 'RB'), (',', ','), ('there', 'EX'), ('were', 'VBD'), ('two', 'CD'), ('possessions', 'NNS'), ('of', 'IN'), ('the', 'DT'), ('James', 'NNP'), ('Dillingham', 'NNP'), ('Youngs', 'NNP'), ('in', 'IN'), ('which', 'WDT'), ('they', 'PRP'), ('both', 'DT'), ('took', 'VBD'), ('a', 'DT'), ('mighty', 'JJ'), ('pride', 'NN'), ('.', '.')]\n",
      "[('One', 'CD'), ('was', 'VBD'), ('Jim', 'NNP'), (\"'s\", 'POS'), ('gold', 'NN'), ('watch', 'NN'), ('that', 'WDT'), ('had', 'VBD'), ('been', 'VBN'), ('his', 'PRP$'), ('father', 'NN'), (\"'s\", 'POS'), ('and', 'CC'), ('his', 'PRP$'), ('grandfather', 'NN'), (\"'s\", 'POS'), ('.', '.')]\n",
      "[('The', 'DT'), ('other', 'JJ'), ('was', 'VBD'), ('Della', 'NNP'), (\"'s\", 'POS'), ('hair', 'NN'), ('.', '.')]\n",
      "[('Had', 'VBD'), ('the', 'DT'), ('Queen', 'NNP'), ('of', 'IN'), ('Sheba', 'NNP'), ('lived', 'VBD'), ('in', 'IN'), ('the', 'DT'), ('flat', 'JJ'), ('across', 'IN'), ('the', 'DT'), ('airshaft', 'NN'), (',', ','), ('Della', 'NNP'), ('would', 'MD'), ('have', 'VB'), ('let', 'VB'), ('her', 'PRP'), ('hair', 'VB'), ('hang', 'PRP'), ('out', 'IN'), ('of', 'IN'), ('the', 'DT'), ('window', 'NN'), ('some', 'DT'), ('day', 'NN'), ('to', 'TO'), ('dry', 'VB'), ('just', 'RB'), ('to', 'TO'), ('depreciate', 'VB'), ('Her', 'NNP'), ('Majesty', 'NNP'), (\"'s\", 'POS'), ('jewels', 'NNS'), ('and', 'CC'), ('gifts', 'NNS'), ('.', '.')]\n",
      "[('Had', 'NNP'), ('King', 'NNP'), ('Solomon', 'NNP'), ('been', 'VBN'), ('the', 'DT'), ('janitor', 'NN'), (',', ','), ('with', 'IN'), ('all', 'PDT'), ('his', 'PRP$'), ('treasures', 'NNS'), ('piled', 'VBD'), ('up', 'RP'), ('in', 'IN'), ('the', 'DT'), ('basement', 'NN'), (',', ','), ('Jim', 'NNP'), ('would', 'MD'), ('have', 'VB'), ('pulled', 'VBN'), ('out', 'RP'), ('his', 'PRP$'), ('watch', 'NN'), ('every', 'DT'), ('time', 'NN'), ('he', 'PRP'), ('passed', 'VBD'), (',', ','), ('just', 'RB'), ('to', 'TO'), ('see', 'VB'), ('him', 'PRP'), ('pluck', 'VB'), ('at', 'IN'), ('his', 'PRP$'), ('beard', 'NN'), ('from', 'IN'), ('envy', 'NN'), ('.', '.')]\n",
      "[('So', 'RB'), ('now', 'RB'), ('Della', 'NNP'), (\"'s\", 'POS'), ('beautiful', 'JJ'), ('hair', 'NN'), ('fell', 'VBD'), ('about', 'IN'), ('her', 'PRP'), (',', ','), ('rippling', 'VBG'), ('and', 'CC'), ('shining', 'VBG'), ('like', 'IN'), ('a', 'DT'), ('cascade', 'NN'), ('of', 'IN'), ('brown', 'JJ'), ('waters', 'NNS'), ('.', '.')]\n",
      "[('It', 'PRP'), ('reached', 'VBD'), ('below', 'IN'), ('her', 'PRP$'), ('knee', 'NN'), ('and', 'CC'), ('made', 'VBD'), ('itself', 'PRP'), ('almost', 'RB'), ('a', 'DT'), ('garment', 'NN'), ('for', 'IN'), ('her', 'PRP$'), ('.', '.')]\n",
      "[('And', 'CC'), ('then', 'RB'), ('she', 'PRP'), ('did', 'VBD'), ('it', 'PRP'), ('up', 'RP'), ('again', 'RB'), ('nervously', 'RB'), ('and', 'CC'), ('quickly', 'RB'), ('.', '.')]\n",
      "[('Once', 'RB'), ('she', 'PRP'), ('faltered', 'VBD'), ('for', 'IN'), ('a', 'DT'), ('minute', 'NN'), ('and', 'CC'), ('stood', 'VBD'), ('still', 'RB'), ('while', 'IN'), ('a', 'DT'), ('tear', 'JJ'), ('or', 'CC'), ('two', 'CD'), ('splashed', 'VBN'), ('on', 'IN'), ('the', 'DT'), ('worn', 'JJ'), ('red', 'JJ'), ('carpet', 'NN'), ('.', '.')]\n",
      "[('On', 'IN'), ('went', 'VBD'), ('her', 'PRP$'), ('old', 'JJ'), ('brown', 'JJ'), ('jacket', 'NN'), (';', ':'), ('on', 'IN'), ('went', 'VBD'), ('her', 'PRP$'), ('old', 'JJ'), ('brown', 'JJ'), ('hat', 'NN'), ('.', '.')]\n",
      "[('With', 'IN'), ('a', 'DT'), ('whirl', 'NN'), ('of', 'IN'), ('skirts', 'NNS'), ('and', 'CC'), ('with', 'IN'), ('the', 'DT'), ('brilliant', 'NN'), ('sparkle', 'NN'), ('still', 'RB'), ('in', 'IN'), ('her', 'PRP$'), ('eyes', 'NNS'), (',', ','), ('she', 'PRP'), ('cluttered', 'VBD'), ('out', 'IN'), ('of', 'IN'), ('the', 'DT'), ('door', 'NN'), ('and', 'CC'), ('down', 'IN'), ('the', 'DT'), ('stairs', 'NNS'), ('to', 'TO'), ('the', 'DT'), ('street', 'NN'), ('.', '.')]\n",
      "[('Where', 'WRB'), ('she', 'PRP'), ('stopped', 'VBD'), ('the', 'DT'), ('sign', 'NN'), ('read', 'NN'), (':', ':'), ('``', '``'), ('Mme', 'NNP'), ('Sofronie', 'NNP'), ('.', '.')]\n",
      "[('Hair', 'NNP'), ('Goods', 'NNP'), ('of', 'IN'), ('All', 'NNP'), ('Kinds', 'NNP'), ('.', '.'), (\"''\", \"''\")]\n",
      "[('One', 'CD'), ('Eight', 'NNP'), ('up', 'RB'), ('Della', 'NNP'), ('ran', 'NN'), (',', ','), ('and', 'CC'), ('collected', 'VBD'), ('herself', 'PRP'), (',', ','), ('panting', 'VBG'), ('.', '.')]\n",
      "[('Madame', 'NN'), (',', ','), ('large', 'JJ'), (',', ','), ('too', 'RB'), ('white', 'JJ'), (',', ','), ('chilly', 'RB'), (',', ','), ('hardly', 'RB'), ('looked', 'VBD'), ('the', 'DT'), ('``', '``'), ('Sofronie', 'NNP'), ('.', '.'), (\"''\", \"''\")]\n",
      "[('``', '``'), ('Will', 'MD'), ('you', 'PRP'), ('buy', 'VB'), ('my', 'PRP$'), ('hair', 'NN'), ('?', '.'), (\"''\", \"''\")]\n",
      "[('asked', 'VBN'), ('Della', 'NNP'), ('.', '.')]\n",
      "[('``', '``'), ('I', 'PRP'), ('buy', 'VBP'), ('hair', 'NN'), (',', ','), (\"''\", \"''\"), ('said', 'VBD'), ('Madame', 'NNP'), ('.', '.')]\n",
      "[('``', '``'), ('Take', 'VB'), ('yer', 'NN'), ('hat', 'DT'), ('off', 'IN'), ('and', 'CC'), ('let', 'VB'), (\"'s\", 'PRP'), ('have', 'VB'), ('a', 'DT'), ('sight', 'NN'), ('at', 'IN'), ('the', 'DT'), ('looks', 'NNS'), ('of', 'IN'), ('it', 'PRP'), ('.', '.'), (\"''\", \"''\")]\n",
      "[('Down', 'RB'), ('rippled', 'VBD'), ('the', 'DT'), ('brown', 'JJ'), ('cascade', 'NN'), ('.', '.')]\n",
      "[('``', '``'), ('Twenty', 'CD'), ('dollars', 'NNS'), (',', ','), (\"''\", \"''\"), ('said', 'VBD'), ('Madame', 'NNP'), (',', ','), ('lifting', 'VBG'), ('the', 'DT'), ('mass', 'NN'), ('with', 'IN'), ('a', 'DT'), ('practised', 'JJ'), ('hand', 'NN'), ('.', '.')]\n",
      "[('``', '``'), ('Give', 'VB'), ('it', 'PRP'), ('to', 'TO'), ('me', 'PRP'), ('quick', 'JJ'), (\"''\", \"''\"), ('said', 'VBD'), ('Della', 'NNP'), ('.', '.')]\n",
      "[('Oh', 'UH'), (',', ','), ('and', 'CC'), ('the', 'DT'), ('next', 'JJ'), ('two', 'CD'), ('hours', 'NNS'), ('tripped', 'VBN'), ('by', 'IN'), ('on', 'IN'), ('rosy', 'JJ'), ('wings', 'NNS'), ('.', '.')]\n",
      "[('Forget', 'VB'), ('the', 'DT'), ('hashed', 'JJ'), ('metaphor', 'NN'), ('.', '.')]\n",
      "[('She', 'PRP'), ('was', 'VBD'), ('ransacking', 'VBG'), ('the', 'DT'), ('stores', 'NNS'), ('for', 'IN'), ('Jim', 'NNP'), (\"'s\", 'POS'), ('present', 'NN'), ('.', '.')]\n",
      "[('She', 'PRP'), ('found', 'VBD'), ('it', 'PRP'), ('at', 'IN'), ('last', 'JJ'), ('.', '.')]\n",
      "[('It', 'PRP'), ('surely', 'RB'), ('had', 'VBD'), ('been', 'VBN'), ('made', 'VBN'), ('for', 'IN'), ('Jim', 'NNP'), ('and', 'CC'), ('no', 'DT'), ('one', 'NN'), ('else', 'RB'), ('.', '.')]\n",
      "[('There', 'EX'), ('was', 'VBD'), ('no', 'DT'), ('other', 'JJ'), ('like', 'IN'), ('it', 'PRP'), ('in', 'IN'), ('any', 'DT'), ('of', 'IN'), ('the', 'DT'), ('stores', 'NNS'), (',', ','), ('and', 'CC'), ('she', 'PRP'), ('had', 'VBD'), ('turned', 'VBN'), ('all', 'DT'), ('of', 'IN'), ('them', 'PRP'), ('inside', 'IN'), ('out', 'IN'), ('.', '.')]\n",
      "[('It', 'PRP'), ('was', 'VBD'), ('a', 'DT'), ('platinum', 'NN'), ('fob', 'NN'), ('chain', 'NN'), ('simple', 'NN'), ('and', 'CC'), ('chaste', 'NN'), ('in', 'IN'), ('design', 'NN'), (',', ','), ('properly', 'RB'), ('proclaiming', 'VBG'), ('its', 'PRP$'), ('value', 'NN'), ('by', 'IN'), ('substance', 'NN'), ('alone', 'RB'), ('and', 'CC'), ('not', 'RB'), ('by', 'IN'), ('meretricious', 'JJ'), ('ornamentation', 'NN'), ('--', ':'), ('as', 'IN'), ('all', 'DT'), ('good', 'JJ'), ('things', 'NNS'), ('should', 'MD'), ('do', 'VB'), ('.', '.')]\n",
      "[('It', 'PRP'), ('was', 'VBD'), ('even', 'RB'), ('worthy', 'JJR'), ('of', 'IN'), ('The', 'DT'), ('Watch', 'NNP'), ('.', '.')]\n",
      "[('As', 'RB'), ('soon', 'RB'), ('as', 'IN'), ('she', 'PRP'), ('saw', 'VBD'), ('it', 'PRP'), ('she', 'PRP'), ('knew', 'VBD'), ('that', 'IN'), ('it', 'PRP'), ('must', 'MD'), ('be', 'VB'), ('Jim', 'NNP'), (\"'s\", 'POS'), ('.', '.')]\n",
      "[('It', 'PRP'), ('was', 'VBD'), ('like', 'IN'), ('him', 'PRP'), ('.', '.')]\n",
      "[('Quietness', 'NN'), ('and', 'CC'), ('value', 'NN'), ('--', ':'), ('the', 'DT'), ('description', 'NN'), ('applied', 'VBN'), ('to', 'TO'), ('both', 'DT'), ('.', '.')]\n",
      "[('Twenty-one', 'CD'), ('dollars', 'NNS'), ('they', 'PRP'), ('took', 'VBD'), ('from', 'IN'), ('her', 'PRP$'), ('for', 'IN'), ('it', 'PRP'), (',', ','), ('and', 'CC'), ('she', 'PRP'), ('hurried', 'VBD'), ('home', 'NN'), ('with', 'IN'), ('the', 'DT'), ('78', 'CD'), ('cents', 'NNS'), ('.', '.')]\n",
      "[('With', 'IN'), ('that', 'DT'), ('chain', 'NN'), ('on', 'IN'), ('his', 'PRP$'), ('watch', 'NN'), ('Jim', 'NNP'), ('might', 'MD'), ('be', 'VB'), ('properly', 'RB'), ('anxious', 'JJ'), ('about', 'IN'), ('the', 'DT'), ('time', 'NN'), ('in', 'IN'), ('any', 'DT'), ('company', 'NN'), ('.', '.')]\n",
      "[('Grand', 'NNP'), ('as', 'IN'), ('the', 'DT'), ('watch', 'NN'), ('was', 'VBD'), (',', ','), ('he', 'PRP'), ('sometimes', 'RB'), ('looked', 'VBD'), ('at', 'IN'), ('it', 'PRP'), ('on', 'IN'), ('the', 'DT'), ('sly', 'RB'), ('on', 'IN'), ('account', 'NN'), ('of', 'IN'), ('the', 'DT'), ('old', 'JJ'), ('leather', 'NN'), ('strap', 'NN'), ('that', 'IN'), ('he', 'PRP'), ('used', 'VBD'), ('in', 'IN'), ('place', 'NN'), ('of', 'IN'), ('a', 'DT'), ('chain', 'NN'), ('.', '.')]\n",
      "[('When', 'WRB'), ('Della', 'NNP'), ('reached', 'VBD'), ('home', 'NN'), ('her', 'PRP$'), ('intoxication', 'NN'), ('gave', 'VBD'), ('way', 'NN'), ('a', 'DT'), ('little', 'JJ'), ('to', 'TO'), ('prudence', 'VB'), ('and', 'CC'), ('reason', 'NN'), ('.', '.')]\n",
      "[('She', 'PRP'), ('got', 'VBD'), ('out', 'RP'), ('her', 'PRP$'), ('curling', 'VBG'), ('irons', 'NNS'), ('and', 'CC'), ('lighted', 'VBD'), ('the', 'DT'), ('gas', 'NN'), ('and', 'CC'), ('went', 'VBD'), ('to', 'TO'), ('work', 'VB'), ('repairing', 'VBG'), ('the', 'DT'), ('ravages', 'NNS'), ('made', 'VBN'), ('by', 'IN'), ('generosity', 'NN'), ('added', 'VBN'), ('to', 'TO'), ('love', 'VB'), ('.', '.')]\n",
      "[('Which', 'WDT'), ('is', 'VBZ'), ('always', 'RB'), ('a', 'DT'), ('tremendous', 'JJ'), ('task', 'NN'), ('dear', 'JJ'), ('friends', 'NNS'), ('--', ':'), ('a', 'DT'), ('mammoth', 'JJ'), ('task', 'NN'), ('.', '.')]\n",
      "[('Within', 'IN'), ('forty', 'JJ'), ('minutes', 'NNS'), ('her', 'PRP$'), ('head', 'NN'), ('was', 'VBD'), ('covered', 'VBN'), ('with', 'IN'), ('tiny', 'JJ'), (',', ','), ('close-lying', 'JJ'), ('curls', 'NN'), ('that', 'IN'), ('made', 'VBD'), ('her', 'PRP$'), ('look', 'NN'), ('wonderfully', 'RB'), ('like', 'IN'), ('a', 'DT'), ('truant', 'JJ'), ('schoolboy', 'NN'), ('.', '.')]\n",
      "[('She', 'PRP'), ('looked', 'VBD'), ('at', 'IN'), ('her', 'PRP$'), ('reflection', 'NN'), ('in', 'IN'), ('the', 'DT'), ('mirror', 'NN'), ('long', 'RB'), (',', ','), ('carefully', 'RB'), (',', ','), ('and', 'CC'), ('critically', 'RB'), ('.', '.')]\n",
      "[('``', '``'), ('If', 'IN'), ('Jim', 'NNP'), ('does', 'VBZ'), (\"n't\", 'RB'), ('kill', 'VB'), ('me', 'PRP'), (',', ','), (\"''\", \"''\"), ('she', 'PRP'), ('said', 'VBD'), ('to', 'TO'), ('herself', 'VB'), (',', ','), ('``', '``'), ('before', 'IN'), ('he', 'PRP'), ('takes', 'VBZ'), ('a', 'DT'), ('second', 'JJ'), ('look', 'NN'), ('at', 'IN'), ('me', 'PRP'), (',', ','), ('he', 'PRP'), (\"'ll\", 'MD'), ('say', 'VB'), ('I', 'PRP'), ('look', 'VBP'), ('like', 'IN'), ('a', 'DT'), ('Coney', 'NNP'), ('Island', 'NNP'), ('chorus', 'NN'), ('girl', 'NN'), ('.', '.')]\n",
      "[('But', 'CC'), ('what', 'WP'), ('could', 'MD'), ('I', 'PRP'), ('do', 'VBP'), ('--', ':'), ('oh', 'UH'), ('!', '.')]\n",
      "[('what', 'WP'), ('could', 'MD'), ('I', 'PRP'), ('do', 'VBP'), ('with', 'IN'), ('a', 'DT'), ('dollar', 'NN'), ('and', 'CC'), ('eighty-seven', 'JJ'), ('cents', 'NNS'), ('?', '.'), (\"''\", \"''\")]\n",
      "[('At', 'IN'), ('7', 'CD'), (\"o'clock\", 'IN'), ('the', 'DT'), ('coffee', 'NN'), ('was', 'VBD'), ('made', 'VBN'), ('and', 'CC'), ('the', 'DT'), ('frying-pan', 'NN'), ('was', 'VBD'), ('on', 'IN'), ('the', 'DT'), ('back', 'NN'), ('of', 'IN'), ('the', 'DT'), ('stove', 'NN'), ('hot', 'JJ'), ('and', 'CC'), ('ready', 'JJ'), ('to', 'TO'), ('cook', 'VB'), ('the', 'DT'), ('chops', 'NNS'), ('.', '.')]\n",
      "[('Jim', 'NNP'), ('was', 'VBD'), ('never', 'RB'), ('late', 'RB'), ('.', '.')]\n",
      "[('Della', 'NN'), ('doubled', 'VBD'), ('the', 'DT'), ('fob', 'NN'), ('chain', 'NN'), ('in', 'IN'), ('her', 'PRP$'), ('hand', 'NN'), ('and', 'CC'), ('sat', 'NN'), ('on', 'IN'), ('the', 'DT'), ('corner', 'NN'), ('of', 'IN'), ('the', 'DT'), ('table', 'NN'), ('near', 'IN'), ('the', 'DT'), ('door', 'NN'), ('that', 'IN'), ('he', 'PRP'), ('always', 'RB'), ('entered', 'VBD'), ('.', '.')]\n",
      "[('Then', 'RB'), ('she', 'PRP'), ('heard', 'VBD'), ('his', 'PRP$'), ('step', 'NN'), ('on', 'IN'), ('the', 'DT'), ('stair', 'NN'), ('away', 'RB'), ('down', 'RB'), ('on', 'IN'), ('the', 'DT'), ('first', 'JJ'), ('flight', 'NN'), (',', ','), ('and', 'CC'), ('she', 'PRP'), ('turned', 'VBD'), ('white', 'JJ'), ('for', 'IN'), ('just', 'RB'), ('a', 'DT'), ('moment', 'NN'), ('.', '.')]\n"
     ]
    },
    {
     "name": "stdout",
     "output_type": "stream",
     "text": [
      "[('She', 'PRP'), ('had', 'VBD'), ('a', 'DT'), ('habit', 'NN'), ('of', 'IN'), ('saying', 'VBG'), ('little', 'JJ'), ('silent', 'JJ'), ('prayers', 'NNS'), ('about', 'IN'), ('the', 'DT'), ('simplest', 'JJS'), ('everyday', 'JJ'), ('things', 'NNS'), (',', ','), ('and', 'CC'), ('now', 'RB'), ('she', 'PRP'), ('whispered', 'VBD'), (':', ':'), ('``', '``'), ('Please', 'NNP'), (',', ','), ('God', 'NNP'), (',', ','), ('make', 'VBP'), ('him', 'PRP'), ('think', 'VB'), ('I', 'PRP'), ('am', 'VBP'), ('still', 'RB'), ('pretty', 'RB'), ('.', '.'), (\"''\", \"''\")]\n",
      "[('The', 'DT'), ('door', 'NN'), ('opened', 'VBD'), ('and', 'CC'), ('Jim', 'NNP'), ('stepped', 'VBD'), ('in', 'IN'), ('and', 'CC'), ('closed', 'VBD'), ('it', 'PRP'), ('.', '.')]\n",
      "[('He', 'PRP'), ('looked', 'VBD'), ('thin', 'JJ'), ('and', 'CC'), ('very', 'RB'), ('serious', 'JJ'), ('.', '.')]\n",
      "[('Poor', 'NNP'), ('fellow', 'NN'), (',', ','), ('he', 'PRP'), ('was', 'VBD'), ('only', 'RB'), ('twenty-two', 'JJ'), ('--', ':'), ('and', 'CC'), ('to', 'TO'), ('be', 'VB'), ('burdened', 'VBN'), ('with', 'IN'), ('a', 'DT'), ('family', 'NN'), ('!', '.')]\n",
      "[('He', 'PRP'), ('needed', 'VBD'), ('a', 'DT'), ('new', 'JJ'), ('overcoat', 'NN'), ('and', 'CC'), ('he', 'PRP'), ('was', 'VBD'), ('without', 'IN'), ('gloves', 'NNS'), ('.', '.')]\n",
      "[('Jim', 'NNP'), ('stepped', 'VBD'), ('inside', 'IN'), ('the', 'DT'), ('door', 'NN'), (',', ','), ('as', 'RB'), ('immovable', 'JJ'), ('as', 'IN'), ('a', 'DT'), ('setter', 'NN'), ('at', 'IN'), ('the', 'DT'), ('scent', 'NN'), ('of', 'IN'), ('quail', 'NN'), ('.', '.')]\n",
      "[('His', 'PRP$'), ('eyes', 'NNS'), ('were', 'VBD'), ('fixed', 'VBN'), ('upon', 'IN'), ('Della', 'NNP'), (',', ','), ('and', 'CC'), ('there', 'EX'), ('was', 'VBD'), ('an', 'DT'), ('expression', 'NN'), ('in', 'IN'), ('them', 'PRP'), ('that', 'IN'), ('she', 'PRP'), ('could', 'MD'), ('not', 'RB'), ('read', 'VB'), (',', ','), ('and', 'CC'), ('it', 'PRP'), ('terrified', 'VBD'), ('her', 'PRP'), ('.', '.')]\n",
      "[('It', 'PRP'), ('was', 'VBD'), ('not', 'RB'), ('anger', 'JJ'), (',', ','), ('nor', 'CC'), ('surprise', 'NN'), (',', ','), ('nor', 'CC'), ('disapproval', 'NN'), (',', ','), ('nor', 'CC'), ('horror', 'NN'), (',', ','), ('nor', 'CC'), ('any', 'DT'), ('of', 'IN'), ('the', 'DT'), ('sentiments', 'NNS'), ('that', 'IN'), ('she', 'PRP'), ('had', 'VBD'), ('been', 'VBN'), ('prepared', 'VBN'), ('for', 'IN'), ('.', '.')]\n",
      "[('He', 'PRP'), ('simply', 'RB'), ('stared', 'VBD'), ('at', 'IN'), ('her', 'PRP$'), ('fixedly', 'RB'), ('with', 'IN'), ('that', 'DT'), ('peculiar', 'JJ'), ('expression', 'NN'), ('on', 'IN'), ('his', 'PRP$'), ('face', 'NN'), ('.', '.')]\n",
      "[('Della', 'NNP'), ('wriggled', 'VBD'), ('off', 'RP'), ('the', 'DT'), ('table', 'NN'), ('and', 'CC'), ('went', 'VBD'), ('for', 'IN'), ('him', 'PRP'), ('.', '.')]\n",
      "[('``', '``'), ('Jim', 'NNP'), (',', ','), ('darling', 'NN'), (',', ','), (\"''\", \"''\"), ('she', 'PRP'), ('cried', 'VBD'), (',', ','), ('``', '``'), ('do', 'VBP'), (\"n't\", 'RB'), ('look', 'VB'), ('at', 'IN'), ('me', 'PRP'), ('that', 'DT'), ('way', 'NN'), ('.', '.')]\n",
      "[('I', 'PRP'), ('had', 'VBD'), ('my', 'PRP$'), ('hair', 'NN'), ('cut', 'VBD'), ('off', 'RP'), ('and', 'CC'), ('sold', 'VBD'), ('it', 'PRP'), ('because', 'IN'), ('I', 'PRP'), ('could', 'MD'), (\"n't\", 'RB'), ('have', 'VB'), ('lived', 'VBN'), ('through', 'IN'), ('Christmas', 'NNP'), ('without', 'IN'), ('giving', 'VBG'), ('you', 'PRP'), ('a', 'DT'), ('present', 'JJ'), ('.', '.')]\n",
      "[('It', 'PRP'), (\"'ll\", 'MD'), ('grow', 'VB'), ('out', 'RP'), ('again', 'RB'), ('--', ':'), ('you', 'PRP'), ('wo', 'MD'), (\"n't\", 'RB'), ('mind', 'VB'), (',', ','), ('will', 'MD'), ('you', 'PRP'), ('?', '.')]\n",
      "[('I', 'PRP'), ('just', 'RB'), ('had', 'VBD'), ('to', 'TO'), ('do', 'VB'), ('it', 'PRP'), ('.', '.')]\n",
      "[('My', 'PRP$'), ('hair', 'NN'), ('grows', 'VBZ'), ('awfully', 'RB'), ('fast', 'RB'), ('.', '.')]\n",
      "[('Say', 'NNP'), (\"'Merry\", 'NNP'), ('Christmas', 'NNP'), ('!', '.'), (\"'\", \"''\")]\n",
      "[('Jim', 'NNP'), (',', ','), ('and', 'CC'), ('let', 'VB'), (\"'s\", 'POS'), ('be', 'VB'), ('happy', 'JJ'), ('.', '.')]\n",
      "[('You', 'PRP'), ('do', 'VBP'), (\"n't\", 'RB'), ('know', 'VB'), ('what', 'WP'), ('a', 'DT'), ('nice-what', 'JJ'), ('a', 'DT'), ('beautiful', 'JJ'), (',', ','), ('nice', 'JJ'), ('gift', 'NN'), ('I', 'PRP'), (\"'ve\", 'VBP'), ('got', 'VBN'), ('for', 'IN'), ('you', 'PRP'), ('.', '.'), (\"''\", \"''\")]\n",
      "[('``', '``'), ('You', 'PRP'), (\"'ve\", 'VBP'), ('cut', 'VBN'), ('off', 'RP'), ('your', 'PRP$'), ('hair', 'NN'), ('?', '.'), (\"''\", \"''\")]\n",
      "[('asked', 'VBN'), ('Jim', 'NNP'), (',', ','), ('laboriously', 'RB'), (',', ','), ('as', 'IN'), ('if', 'IN'), ('he', 'PRP'), ('had', 'VBD'), ('not', 'RB'), ('arrived', 'VBN'), ('at', 'IN'), ('that', 'DT'), ('patent', 'NN'), ('fact', 'NN'), ('yet', 'RB'), (',', ','), ('even', 'RB'), ('after', 'IN'), ('the', 'DT'), ('hardest', 'JJS'), ('mental', 'JJ'), ('labour', 'NN'), ('.', '.')]\n",
      "[('``', '``'), ('Cut', 'VB'), ('it', 'PRP'), ('off', 'RP'), ('and', 'CC'), ('sold', 'VBD'), ('it', 'PRP'), (',', ','), (\"''\", \"''\"), ('said', 'VBD'), ('Della', 'NNP'), ('.', '.')]\n",
      "[('``', '``'), ('Do', 'VBP'), (\"n't\", 'RB'), ('you', 'PRP'), ('like', 'IN'), ('me', 'PRP'), ('just', 'RB'), ('as', 'RB'), ('well', 'RB'), (',', ','), ('anyhow', 'NN'), ('?', '.')]\n",
      "[('I', 'PRP'), (\"'m\", 'VBP'), ('me', 'PRP'), ('without', 'IN'), ('my', 'PRP$'), ('hair', 'NN'), (',', ','), ('ai', 'VBP'), (\"n't\", 'RB'), ('I', 'PRP'), ('?', '.'), (\"''\", \"''\")]\n",
      "[('Jim', 'NNP'), ('looked', 'VBD'), ('about', 'IN'), ('the', 'DT'), ('room', 'NN'), ('curiously', 'RB'), ('.', '.')]\n",
      "[('``', '``'), ('You', 'PRP'), ('say', 'VBP'), ('your', 'PRP$'), ('hair', 'NN'), ('is', 'VBZ'), ('gone', 'VBN'), ('?', '.'), (\"''\", \"''\")]\n",
      "[('he', 'PRP'), ('said', 'VBD'), (',', ','), ('with', 'IN'), ('an', 'DT'), ('air', 'NN'), ('almost', 'RB'), ('of', 'IN'), ('idiocy', 'NN'), ('.', '.')]\n",
      "[('``', '``'), ('You', 'PRP'), ('need', 'VBP'), (\"n't\", 'RB'), ('look', 'VB'), ('for', 'IN'), ('it', 'PRP'), (',', ','), (\"''\", \"''\"), ('said', 'VBD'), ('Della', 'NNP'), ('.', '.')]\n",
      "[('``', '``'), ('It', 'PRP'), (\"'s\", 'VBZ'), ('sold', 'VBN'), (',', ','), ('I', 'PRP'), ('tell', 'VBP'), ('you', 'PRP'), ('--', ':'), ('sold', 'VBN'), ('and', 'CC'), ('gone', 'VBN'), (',', ','), ('too', 'RB'), ('.', '.')]\n",
      "[('It', 'PRP'), (\"'s\", 'VBZ'), ('Christmas', 'NNP'), ('Eve', 'NNP'), (',', ','), ('boy', 'NN'), ('.', '.')]\n",
      "[('Be', 'VB'), ('good', 'JJ'), ('to', 'TO'), ('me', 'PRP'), (',', ','), ('for', 'IN'), ('it', 'PRP'), ('went', 'VBD'), ('for', 'IN'), ('you', 'PRP'), ('.', '.')]\n",
      "[('Maybe', 'RB'), ('the', 'DT'), ('hairs', 'NN'), ('of', 'IN'), ('my', 'PRP$'), ('head', 'NN'), ('were', 'VBD'), ('numbered', 'VBN'), (',', ','), (\"''\", \"''\"), ('she', 'PRP'), ('went', 'VBD'), ('on', 'IN'), ('with', 'IN'), ('a', 'DT'), ('sudden', 'JJ'), ('serious', 'JJ'), ('sweetness', 'NN'), (',', ','), ('``', '``'), ('but', 'CC'), ('nobody', 'NN'), ('could', 'MD'), ('ever', 'RB'), ('count', 'VB'), ('my', 'PRP$'), ('love', 'NN'), ('for', 'IN'), ('you', 'PRP'), ('.', '.')]\n",
      "[('Shall', 'NN'), ('I', 'PRP'), ('put', 'VBD'), ('the', 'DT'), ('chops', 'NNS'), ('on', 'IN'), (',', ','), ('Jim', 'NNP'), ('?', '.'), (\"''\", \"''\")]\n",
      "[('Out', 'IN'), ('of', 'IN'), ('his', 'PRP$'), ('trance', 'NN'), ('Jim', 'NNP'), ('seemed', 'VBD'), ('quickly', 'RB'), ('to', 'TO'), ('wake', 'VB'), ('.', '.')]\n",
      "[('He', 'PRP'), ('enfolded', 'VBD'), ('his', 'PRP$'), ('Della', 'NN'), ('.', '.')]\n",
      "[('For', 'IN'), ('ten', 'JJ'), ('seconds', 'NNS'), ('let', 'VBP'), ('us', 'PRP'), ('regard', 'VB'), ('with', 'IN'), ('discreet', 'NN'), ('scrutiny', 'NN'), ('some', 'DT'), ('inconsequential', 'JJ'), ('object', 'NN'), ('in', 'IN'), ('the', 'DT'), ('other', 'JJ'), ('direction', 'NN'), ('.', '.')]\n",
      "[('Eight', 'CD'), ('dollars', 'NNS'), ('a', 'DT'), ('week', 'NN'), ('or', 'CC'), ('a', 'DT'), ('million', 'CD'), ('a', 'DT'), ('year', 'NN'), ('--', ':'), ('what', 'WP'), ('is', 'VBZ'), ('the', 'DT'), ('difference', 'NN'), ('?', '.')]\n",
      "[('A', 'DT'), ('mathematician', 'NN'), ('or', 'CC'), ('a', 'DT'), ('wit', 'NN'), ('would', 'MD'), ('give', 'VB'), ('you', 'PRP'), ('the', 'DT'), ('wrong', 'JJ'), ('answer', 'NN'), ('.', '.')]\n",
      "[('The', 'DT'), ('magi', 'NN'), ('brought', 'VBD'), ('valuable', 'JJ'), ('gifts', 'NNS'), (',', ','), ('but', 'CC'), ('that', 'DT'), ('was', 'VBD'), ('not', 'RB'), ('among', 'IN'), ('them', 'PRP'), ('.', '.')]\n",
      "[('This', 'DT'), ('dark', 'JJ'), ('assertion', 'NN'), ('will', 'MD'), ('be', 'VB'), ('illuminated', 'VBN'), ('later', 'RB'), ('on', 'IN'), ('.', '.')]\n",
      "[('Jim', 'NNP'), ('drew', 'VBD'), ('a', 'DT'), ('package', 'NN'), ('from', 'IN'), ('his', 'PRP$'), ('overcoat', 'NN'), ('pocket', 'NN'), ('and', 'CC'), ('threw', 'VBD'), ('it', 'PRP'), ('upon', 'IN'), ('the', 'DT'), ('table', 'NN'), ('.', '.')]\n",
      "[('``', '``'), ('Do', 'VBP'), (\"n't\", 'RB'), ('make', 'VB'), ('any', 'DT'), ('mistake', 'NN'), (',', ','), ('Dell', 'NNP'), (',', ','), (\"''\", \"''\"), ('he', 'PRP'), ('said', 'VBD'), (',', ','), ('``', '``'), ('about', 'IN'), ('me', 'PRP'), ('.', '.')]\n",
      "[('I', 'PRP'), ('do', 'VBP'), (\"n't\", 'RB'), ('think', 'VB'), ('there', 'EX'), (\"'s\", 'VBZ'), ('anything', 'NN'), ('in', 'IN'), ('the', 'DT'), ('way', 'NN'), ('of', 'IN'), ('a', 'DT'), ('haircut', 'NN'), ('or', 'CC'), ('a', 'DT'), ('shave', 'NN'), ('or', 'CC'), ('a', 'DT'), ('shampoo', 'NN'), ('that', 'WDT'), ('could', 'MD'), ('make', 'VB'), ('me', 'PRP'), ('like', 'IN'), ('my', 'PRP$'), ('girl', 'NN'), ('any', 'DT'), ('less', 'JJR'), ('.', '.')]\n",
      "[('But', 'CC'), ('if', 'IN'), ('you', 'PRP'), (\"'ll\", 'MD'), ('unwrap', 'VB'), ('that', 'DT'), ('package', 'NN'), ('you', 'PRP'), ('may', 'MD'), ('see', 'VB'), ('why', 'WRB'), ('you', 'PRP'), ('had', 'VBD'), ('me', 'PRP'), ('going', 'VBG'), ('a', 'DT'), ('while', 'NN'), ('at', 'IN'), ('first', 'JJ'), ('.', '.'), (\"''\", \"''\")]\n",
      "[('White', 'NNP'), ('fingers', 'NNS'), ('and', 'CC'), ('nimble', 'JJ'), ('tore', 'NN'), ('at', 'IN'), ('the', 'DT'), ('string', 'NN'), ('and', 'CC'), ('paper', 'NN'), ('.', '.')]\n",
      "[('And', 'CC'), ('then', 'RB'), ('an', 'DT'), ('ecstatic', 'JJ'), ('scream', 'NN'), ('of', 'IN'), ('joy', 'NN'), (';', ':'), ('and', 'CC'), ('then', 'RB'), (',', ','), ('alas', 'UH'), ('!', '.')]\n",
      "[('a', 'DT'), ('quick', 'JJ'), ('feminine', 'NN'), ('change', 'NN'), ('to', 'TO'), ('hysterical', 'JJ'), ('tears', 'NNS'), ('and', 'CC'), ('wails', 'NNS'), (',', ','), ('necessitating', 'VBG'), ('the', 'DT'), ('immediate', 'JJ'), ('employment', 'NN'), ('of', 'IN'), ('all', 'PDT'), ('the', 'DT'), ('comforting', 'VBG'), ('powers', 'NNS'), ('of', 'IN'), ('the', 'DT'), ('lord', 'NN'), ('of', 'IN'), ('the', 'DT'), ('flat', 'JJ'), ('.', '.')]\n",
      "[('For', 'IN'), ('there', 'EX'), ('lay', 'VBP'), ('The', 'DT'), ('Combs', 'NNP'), ('--', ':'), ('the', 'DT'), ('set', 'NN'), ('of', 'IN'), ('combs', 'NNS'), (',', ','), ('side', 'NN'), ('and', 'CC'), ('back', 'RB'), (',', ','), ('that', 'IN'), ('Della', 'NNP'), ('had', 'VBD'), ('worshipped', 'VBN'), ('for', 'IN'), ('long', 'RB'), ('in', 'IN'), ('a', 'DT'), ('Broadway', 'NNP'), ('window', 'NN'), ('.', '.')]\n",
      "[('Beautiful', 'NNP'), ('combs', 'NNS'), (',', ','), ('pure', 'JJ'), ('tortoise-shell', 'NN'), (',', ','), ('with', 'IN'), ('jewelled', 'JJ'), ('rims', 'NNS'), ('--', ':'), ('just', 'RB'), ('the', 'DT'), ('shade', 'NN'), ('to', 'TO'), ('wear', 'VB'), ('in', 'IN'), ('the', 'DT'), ('beautiful', 'NN'), ('vanished', 'VBD'), ('hair', 'NN'), ('.', '.')]\n",
      "[('They', 'PRP'), ('were', 'VBD'), ('expensive', 'JJ'), ('combs', 'NN'), (',', ','), ('she', 'PRP'), ('knew', 'VBD'), (',', ','), ('and', 'CC'), ('her', 'PRP$'), ('heart', 'NN'), ('had', 'VBD'), ('simply', 'RB'), ('craved', 'VBN'), ('and', 'CC'), ('yearned', 'VBN'), ('over', 'IN'), ('them', 'PRP'), ('without', 'IN'), ('the', 'DT'), ('least', 'JJS'), ('hope', 'NN'), ('of', 'IN'), ('possession', 'NN'), ('.', '.')]\n",
      "[('And', 'CC'), ('now', 'RB'), (',', ','), ('they', 'PRP'), ('were', 'VBD'), ('hers', 'NNS'), (',', ','), ('but', 'CC'), ('the', 'DT'), ('tresses', 'NNS'), ('that', 'WDT'), ('should', 'MD'), ('have', 'VB'), ('adorned', 'VBN'), ('the', 'DT'), ('coveted', 'JJ'), ('adornments', 'NNS'), ('were', 'VBD'), ('gone', 'VBN'), ('.', '.')]\n",
      "[('But', 'CC'), ('she', 'PRP'), ('hugged', 'VBD'), ('them', 'PRP'), ('to', 'TO'), ('her', 'PRP$'), ('bosom', 'NN'), (',', ','), ('and', 'CC'), ('at', 'IN'), ('length', 'NN'), ('she', 'PRP'), ('was', 'VBD'), ('able', 'JJ'), ('to', 'TO'), ('look', 'VB'), ('up', 'RP'), ('with', 'IN'), ('dim', 'JJ'), ('eyes', 'NNS'), ('and', 'CC'), ('a', 'DT'), ('smile', 'NN'), ('and', 'CC'), ('say', 'VB'), (':', ':'), ('``', '``'), ('My', 'PRP$'), ('hair', 'NN'), ('grows', 'VBZ'), ('so', 'RB'), ('fast', 'RB'), (',', ','), ('Jim', 'NNP'), ('!', '.'), (\"''\", \"''\")]\n",
      "[('And', 'CC'), ('then', 'RB'), ('Della', 'NNP'), ('leaped', 'VBD'), ('up', 'RP'), ('like', 'IN'), ('a', 'DT'), ('little', 'JJ'), ('singed', 'JJ'), ('cat', 'NN'), ('and', 'CC'), ('cried', 'VBD'), (',', ','), ('``', '``'), ('Oh', 'UH'), (',', ','), ('oh', 'UH'), ('!', '.'), (\"''\", \"''\")]\n",
      "[('Jim', 'NNP'), ('had', 'VBD'), ('not', 'RB'), ('yet', 'RB'), ('seen', 'VBN'), ('his', 'PRP$'), ('beautiful', 'JJ'), ('present', 'NN'), ('.', '.')]\n",
      "[('She', 'PRP'), ('held', 'VBD'), ('it', 'PRP'), ('out', 'RP'), ('to', 'TO'), ('him', 'PRP'), ('eagerly', 'RB'), ('upon', 'IN'), ('her', 'PRP$'), ('open', 'JJ'), ('palm', 'NN'), ('.', '.')]\n",
      "[('The', 'DT'), ('dull', 'JJ'), ('precious', 'JJ'), ('metal', 'NN'), ('seemed', 'VBD'), ('to', 'TO'), ('flash', 'VB'), ('with', 'IN'), ('a', 'DT'), ('reflection', 'NN'), ('of', 'IN'), ('her', 'PRP$'), ('bright', 'NN'), ('and', 'CC'), ('ardent', 'NN'), ('spirit', 'NN'), ('.', '.')]\n",
      "[('``', '``'), ('Is', 'VBZ'), (\"n't\", 'RB'), ('it', 'PRP'), ('a', 'DT'), ('dandy', 'NN'), (',', ','), ('Jim', 'NNP'), ('?', '.')]\n",
      "[('I', 'PRP'), ('hunted', 'VBD'), ('all', 'DT'), ('over', 'IN'), ('town', 'NN'), ('to', 'TO'), ('find', 'VB'), ('it', 'PRP'), ('.', '.')]\n",
      "[('You', 'PRP'), (\"'ll\", 'MD'), ('have', 'VB'), ('to', 'TO'), ('look', 'VB'), ('at', 'IN'), ('the', 'DT'), ('time', 'NN'), ('a', 'DT'), ('hundred', 'VBN'), ('times', 'NNS'), ('a', 'DT'), ('day', 'NN'), ('now', 'RB'), ('.', '.')]\n",
      "[('Give', 'VB'), ('me', 'PRP'), ('your', 'PRP$'), ('watch', 'NN'), ('.', '.')]\n",
      "[('I', 'PRP'), ('want', 'VBP'), ('to', 'TO'), ('see', 'VB'), ('how', 'WRB'), ('it', 'PRP'), ('looks', 'VBZ'), ('on', 'IN'), ('it', 'PRP'), ('.', '.'), (\"''\", \"''\")]\n",
      "[('Instead', 'RB'), ('of', 'IN'), ('obeying', 'VBG'), (',', ','), ('Jim', 'NNP'), ('tumbled', 'VBD'), ('down', 'RB'), ('on', 'IN'), ('the', 'DT'), ('couch', 'JJ'), ('and', 'CC'), ('put', 'VB'), ('his', 'PRP$'), ('hands', 'NNS'), ('under', 'IN'), ('the', 'DT'), ('back', 'NN'), ('of', 'IN'), ('his', 'PRP$'), ('head', 'NN'), ('and', 'CC'), ('smiled', 'VBD'), ('.', '.')]\n",
      "[('``', '``'), ('Dell', 'NNP'), (',', ','), (\"''\", \"''\"), ('said', 'VBD'), ('he', 'PRP'), (',', ','), ('``', '``'), ('let', 'VB'), (\"'s\", 'POS'), ('put', 'VB'), ('our', 'PRP$'), ('Christmas', 'NNP'), ('presents', 'VBZ'), ('away', 'RB'), ('and', 'CC'), ('keep', 'VB'), (\"'em\", 'PRP'), ('a', 'DT'), ('while', 'NN'), ('.', '.')]\n",
      "[('They', 'PRP'), (\"'re\", 'VBP'), ('too', 'RB'), ('nice', 'JJ'), ('to', 'TO'), ('use', 'VB'), ('just', 'RB'), ('at', 'IN'), ('present', 'JJ'), ('.', '.')]\n",
      "[('I', 'PRP'), ('sold', 'VBD'), ('the', 'DT'), ('watch', 'NN'), ('to', 'TO'), ('get', 'VB'), ('the', 'DT'), ('money', 'NN'), ('to', 'TO'), ('buy', 'VB'), ('Your', 'NNP'), ('combs', 'NN'), ('.', '.')]\n",
      "[('And', 'CC'), ('now', 'RB'), ('suppose', 'VBP'), ('you', 'PRP'), ('put', 'VBP'), ('the', 'DT'), ('chops', 'NNS'), ('on', 'IN'), ('.', '.'), (\"''\", \"''\")]\n",
      "[('The', 'DT'), ('magi', 'NN'), (',', ','), ('as', 'IN'), ('you', 'PRP'), ('know', 'VBP'), (',', ','), ('were', 'VBD'), ('wise', 'JJ'), ('men', 'NNS'), ('--', ':'), ('wonderfully', 'RB'), ('wise', 'VBP'), ('men-who', 'JJ'), ('brought', 'JJ'), ('gifts', 'NNS'), ('to', 'TO'), ('the', 'DT'), ('Babe', 'NNP'), ('in', 'IN'), ('the', 'DT'), ('manger', 'NN'), ('.', '.')]\n",
      "[('They', 'PRP'), ('invented', 'VBD'), ('the', 'DT'), ('art', 'NN'), ('of', 'IN'), ('giving', 'VBG'), ('Christmas', 'NNP'), ('presents', 'NNS'), ('.', '.')]\n",
      "[('Being', 'VBG'), ('wise', 'NN'), (',', ','), ('their', 'PRP$'), ('gifts', 'NNS'), ('were', 'VBD'), ('no', 'DT'), ('doubt', 'NN'), ('wise', 'NN'), ('ones', 'NNS'), (',', ','), ('possibly', 'RB'), ('bearing', 'VBG'), ('the', 'DT'), ('privilege', 'NN'), ('of', 'IN'), ('exchange', 'NN'), ('in', 'IN'), ('case', 'NN'), ('of', 'IN'), ('duplication', 'NN'), ('.', '.')]\n",
      "[('And', 'CC'), ('here', 'RB'), ('I', 'PRP'), ('have', 'VBP'), ('lamely', 'RB'), ('related', 'VBN'), ('to', 'TO'), ('you', 'PRP'), ('the', 'DT'), ('uneventful', 'JJ'), ('chronicle', 'NN'), ('of', 'IN'), ('two', 'CD'), ('foolish', 'JJ'), ('children', 'NNS'), ('in', 'IN'), ('a', 'DT'), ('flat', 'JJ'), ('who', 'WP'), ('most', 'JJS'), ('unwisely', 'RB'), ('sacrificed', 'VBN'), ('for', 'IN'), ('each', 'DT'), ('other', 'JJ'), ('the', 'DT'), ('greatest', 'JJS'), ('treasures', 'NNS'), ('of', 'IN'), ('their', 'PRP$'), ('house', 'NN'), ('.', '.')]\n",
      "[('But', 'CC'), ('in', 'IN'), ('a', 'DT'), ('last', 'JJ'), ('word', 'NN'), ('to', 'TO'), ('the', 'DT'), ('wise', 'NN'), ('of', 'IN'), ('these', 'DT'), ('days', 'NNS'), ('let', 'VB'), ('it', 'PRP'), ('be', 'VB'), ('said', 'VBD'), ('that', 'IN'), ('of', 'IN'), ('all', 'DT'), ('who', 'WP'), ('give', 'VBP'), ('gifts', 'NNS'), ('these', 'DT'), ('two', 'CD'), ('were', 'VBD'), ('the', 'DT'), ('wisest', 'JJS'), ('.', '.')]\n",
      "[('Of', 'IN'), ('all', 'DT'), ('who', 'WP'), ('give', 'VBP'), ('and', 'CC'), ('receive', 'VBP'), ('gifts', 'NNS'), (',', ','), ('such', 'JJ'), ('as', 'IN'), ('they', 'PRP'), ('are', 'VBP'), ('wisest', 'JJS'), ('.', '.')]\n",
      "[('Everywhere', 'RB'), ('they', 'PRP'), ('are', 'VBP'), ('wisest', 'JJS'), ('.', '.')]\n",
      "[('They', 'PRP'), ('are', 'VBP'), ('the', 'DT'), ('magi', 'NN'), ('.', '.')]\n"
     ]
    }
   ],
   "source": [
    "tokenized_sentences=sent_tokenize(sample_text)\n",
    "for sentence in tokenized_sentences:\n",
    "    tokenized_words=word_tokenize(sentence)\n",
    "    tag=pos_tag(tokenized_words)\n",
    "    print(tag)"
   ]
  },
  {
   "cell_type": "markdown",
   "id": "128407fb",
   "metadata": {},
   "source": [
    "# stopwords"
   ]
  },
  {
   "cell_type": "code",
   "execution_count": 6,
   "id": "53de0170",
   "metadata": {},
   "outputs": [
    {
     "name": "stderr",
     "output_type": "stream",
     "text": [
      "[nltk_data] Downloading package stopwords to\n",
      "[nltk_data]     C:\\Users\\nivet\\AppData\\Roaming\\nltk_data...\n",
      "[nltk_data]   Unzipping corpora\\stopwords.zip.\n"
     ]
    },
    {
     "data": {
      "text/plain": [
       "True"
      ]
     },
     "execution_count": 6,
     "metadata": {},
     "output_type": "execute_result"
    }
   ],
   "source": [
    "import nltk\n",
    "nltk.download('stopwords')\n",
    "  "
   ]
  },
  {
   "cell_type": "code",
   "execution_count": 9,
   "id": "384322f4",
   "metadata": {
    "scrolled": true
   },
   "outputs": [
    {
     "name": "stdout",
     "output_type": "stream",
     "text": [
      "{'about', 'when', 'most', 'doing', 'doesn', 'once', \"it's\", 'they', 'does', 'their', 're', 'weren', 'very', \"shan't\", 'haven', 'she', 'hers', 'am', 'don', 'whom', 'having', 'while', 'too', 'which', 'no', 'm', 'ours', 'couldn', 'hasn', 'over', 'herself', 'so', 'yours', 'can', 'through', \"don't\", 'itself', 'will', 'isn', 'own', 'such', 'ourselves', \"mightn't\", 'some', 'off', \"shouldn't\", 'down', \"should've\", \"won't\", 'what', 'y', 'of', 'into', 'any', 'ma', 'from', 'yourselves', 'himself', 'only', 'were', 'same', 'wasn', 'before', 'll', 'for', \"that'll\", 'and', 'won', 'again', 'had', 'just', 'on', 'out', 'him', 'there', 'yourself', 'between', 't', \"aren't\", 'being', \"haven't\", 'after', 'few', 'aren', \"weren't\", 'if', 'ain', 'as', 'themselves', \"wouldn't\", 'up', 'this', 'are', \"wasn't\", 'here', 'or', \"you'd\", 'who', 'at', 'them', 'did', 'didn', 'because', 'during', 'i', 'by', \"mustn't\", \"you're\", 'both', 'o', \"you've\", 'theirs', \"couldn't\", \"hadn't\", \"isn't\", 'why', 'further', 'to', 'has', \"you'll\", \"she's\", 'where', 'd', 'all', 'but', 'me', 'his', 'shan', 'now', 'its', 'was', 's', 'mightn', \"needn't\", 'in', 'these', 'shouldn', 'my', 'then', 'the', 'do', 'above', 'not', 'it', 'under', 'have', 'against', 'other', 'below', 'her', 'each', 'until', 'nor', \"doesn't\", 'is', 'wouldn', 'how', 'he', 'our', 'with', \"hasn't\", 'than', 'more', 'an', 'your', 'we', 'should', 'hadn', 'needn', 'been', 'mustn', 'that', 've', 'those', 'myself', 'be', \"didn't\", 'you', 'a'}\n",
      "THE FILTERED SENTENCE IS\n",
      "['Stopwords', 'pretty', 'cool', 'way', 'getting', 'rid', 'words', 'want']\n"
     ]
    }
   ],
   "source": [
    "from nltk.corpus import stopwords\n",
    "\n",
    "sample_text=\"Stopwords are a pretty cool way of getting rid of words that we do not want\"\n",
    "\n",
    "tokenized_words=word_tokenize(sample_text)\n",
    "stop_words=set(stopwords.words(\"english\"))\n",
    "print(stop_words)\n",
    "tokenized_words=word_tokenize(sample_text)\n",
    "filtered_sentence=[]\n",
    "for word in tokenized_words:\n",
    "    if word not in stop_words:\n",
    "        filtered_sentence.append(word)\n",
    "print(\"THE FILTERED SENTENCE IS\")\n",
    "print(filtered_sentence)        "
   ]
  },
  {
   "cell_type": "markdown",
   "id": "06f89fe2",
   "metadata": {},
   "source": [
    "# Named entity recognition"
   ]
  },
  {
   "cell_type": "code",
   "execution_count": 12,
   "id": "f99ac882",
   "metadata": {
    "scrolled": true
   },
   "outputs": [
    {
     "name": "stderr",
     "output_type": "stream",
     "text": [
      "[nltk_data] Downloading package maxent_ne_chunker to\n",
      "[nltk_data]     C:\\Users\\nivet\\AppData\\Roaming\\nltk_data...\n",
      "[nltk_data]   Unzipping chunkers\\maxent_ne_chunker.zip.\n"
     ]
    },
    {
     "data": {
      "text/plain": [
       "True"
      ]
     },
     "execution_count": 12,
     "metadata": {},
     "output_type": "execute_result"
    }
   ],
   "source": [
    "import nltk\n",
    "nltk.download('maxent_ne_chunker')"
   ]
  },
  {
   "cell_type": "code",
   "execution_count": 14,
   "id": "1530520a",
   "metadata": {},
   "outputs": [
    {
     "name": "stderr",
     "output_type": "stream",
     "text": [
      "[nltk_data] Downloading package words to\n",
      "[nltk_data]     C:\\Users\\nivet\\AppData\\Roaming\\nltk_data...\n",
      "[nltk_data]   Unzipping corpora\\words.zip.\n"
     ]
    },
    {
     "data": {
      "text/plain": [
       "True"
      ]
     },
     "execution_count": 14,
     "metadata": {},
     "output_type": "execute_result"
    }
   ],
   "source": [
    "import nltk\n",
    "nltk.download('words')"
   ]
  },
  {
   "cell_type": "code",
   "execution_count": 15,
   "id": "38edf9b2",
   "metadata": {},
   "outputs": [],
   "source": [
    "from nltk import pos_tag\n",
    "from nltk import word_tokenize\n",
    "import nltk\n",
    "sample_text=\"I'm Nivetha,currently pursuing my Data Science masters in trichy,i Used chatGPT and other AI tools to enhance my knowledge\"\n",
    "tokenized_words=word_tokenize(sample_text)\n",
    "tag=pos_tag(tokenized_words)\n",
    "\n",
    "namedEnt=nltk.ne_chunk(tag)\n",
    "namedEnt.draw()"
   ]
  },
  {
   "cell_type": "code",
   "execution_count": 16,
   "id": "7e2290e6",
   "metadata": {},
   "outputs": [],
   "source": [
    "sample_text=\"European google $5.1 billion Wednesday\"\n",
    "tokenized_words=word_tokenize(sample_text)\n",
    "tag=pos_tag(tokenized_words)\n",
    "\n",
    "namedEnt=nltk.ne_chunk(tag)\n",
    "namedEnt.draw()"
   ]
  },
  {
   "cell_type": "code",
   "execution_count": 1,
   "id": "eddc8074",
   "metadata": {},
   "outputs": [],
   "source": [
    "from nltk import pos_tag\n",
    "from nltk import word_tokenize\n",
    "import nltk\n",
    "sample_txt =\"I'm Nivetha,currently pursuing my Data Science masters in trichy,i Used chatGPT and other AI tools to enhance my knowledge\"\n",
    "tokenized_words=word_tokenize(sample_txt)\n",
    "tag=pos_tag(tokenized_words)\n",
    "namedEnt=nltk.ne_chunk(tag,binary=True)\n",
    "namedEnt.draw()"
   ]
  },
  {
   "cell_type": "code",
   "execution_count": null,
   "id": "21179bd9",
   "metadata": {},
   "outputs": [],
   "source": []
  }
 ],
 "metadata": {
  "kernelspec": {
   "display_name": "Python 3 (ipykernel)",
   "language": "python",
   "name": "python3"
  },
  "language_info": {
   "codemirror_mode": {
    "name": "ipython",
    "version": 3
   },
   "file_extension": ".py",
   "mimetype": "text/x-python",
   "name": "python",
   "nbconvert_exporter": "python",
   "pygments_lexer": "ipython3",
   "version": "3.10.9"
  }
 },
 "nbformat": 4,
 "nbformat_minor": 5
}
